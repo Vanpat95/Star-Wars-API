{
 "cells": [
  {
   "attachments": {},
   "cell_type": "markdown",
   "metadata": {},
   "source": [
    "The API source does not require an API key\n",
    "https://swapi.dev/documentation"
   ]
  },
  {
   "cell_type": "code",
   "execution_count": 1,
   "metadata": {},
   "outputs": [],
   "source": [
    "import requests\n",
    "import json"
   ]
  },
  {
   "cell_type": "code",
   "execution_count": 2,
   "metadata": {},
   "outputs": [],
   "source": [
    "url = \"https://swapi.dev/api/\""
   ]
  },
  {
   "cell_type": "code",
   "execution_count": 3,
   "metadata": {},
   "outputs": [],
   "source": [
    "jeff = \"https://swapi.dev/api/planets/1/\""
   ]
  },
  {
   "attachments": {},
   "cell_type": "markdown",
   "metadata": {},
   "source": [
    "Testing JSON reponse"
   ]
  },
  {
   "cell_type": "code",
   "execution_count": 4,
   "metadata": {},
   "outputs": [
    {
     "name": "stdout",
     "output_type": "stream",
     "text": [
      "{'people': 'https://swapi.dev/api/people/', 'planets': 'https://swapi.dev/api/planets/', 'films': 'https://swapi.dev/api/films/', 'species': 'https://swapi.dev/api/species/', 'vehicles': 'https://swapi.dev/api/vehicles/', 'starships': 'https://swapi.dev/api/starships/'}\n"
     ]
    }
   ],
   "source": [
    "response = requests.get(url)\n",
    "print(response.json())"
   ]
  },
  {
   "cell_type": "code",
   "execution_count": 5,
   "metadata": {},
   "outputs": [],
   "source": [
    "query_url = url + \"vehicles/\" + \"53/\""
   ]
  },
  {
   "cell_type": "code",
   "execution_count": 6,
   "metadata": {},
   "outputs": [
    {
     "name": "stdout",
     "output_type": "stream",
     "text": [
      "{'name': 'AT-TE', 'model': 'All Terrain Tactical Enforcer', 'manufacturer': 'Rothana Heavy Engineering, Kuat Drive Yards', 'cost_in_credits': 'unknown', 'length': '13.2', 'max_atmosphering_speed': '60', 'crew': '6', 'passengers': '36', 'cargo_capacity': '10000', 'consumables': '21 days', 'vehicle_class': 'walker', 'pilots': [], 'films': ['https://swapi.dev/api/films/5/', 'https://swapi.dev/api/films/6/'], 'created': '2014-12-20T18:10:07.560000Z', 'edited': '2014-12-20T21:30:21.728000Z', 'url': 'https://swapi.dev/api/vehicles/53/'}\n"
     ]
    }
   ],
   "source": [
    "response = requests.get(query_url)\n",
    "vehicle = response.json()\n",
    "print(response.json())"
   ]
  },
  {
   "cell_type": "code",
   "execution_count": 7,
   "metadata": {},
   "outputs": [
    {
     "name": "stdout",
     "output_type": "stream",
     "text": [
      "AT-TE\n"
     ]
    }
   ],
   "source": [
    "print(vehicle[\"name\"])"
   ]
  },
  {
   "cell_type": "code",
   "execution_count": 8,
   "metadata": {},
   "outputs": [
    {
     "name": "stdout",
     "output_type": "stream",
     "text": [
      "Geonosian starfighter\n"
     ]
    }
   ],
   "source": [
    "testresponse = requests.get(url + \"vehicles/\" + \"57/\")\n",
    "\n",
    "geonosian = testresponse.json()[\"name\"]\n",
    "\n",
    "\n",
    "\n",
    "print(geonosian)"
   ]
  },
  {
   "cell_type": "code",
   "execution_count": 9,
   "metadata": {},
   "outputs": [
    {
     "name": "stdout",
     "output_type": "stream",
     "text": [
      "LAAT/i\n"
     ]
    }
   ],
   "source": [
    "test2response = requests.get(url + \"vehicles/\" + \"50/\")\n",
    "\n",
    "laat = test2response.json()[\"name\"]\n",
    "\n",
    "\n",
    "\n",
    "print(laat)"
   ]
  },
  {
   "cell_type": "code",
   "execution_count": 10,
   "metadata": {},
   "outputs": [
    {
     "name": "stdout",
     "output_type": "stream",
     "text": [
      "Obi-Wan Kenobi\n"
     ]
    }
   ],
   "source": [
    "peopletest = requests.get(url + \"people/\" + \"10/\")\n",
    "hellothere = peopletest.json()[\"name\"]\n",
    "print(hellothere)"
   ]
  },
  {
   "cell_type": "code",
   "execution_count": 11,
   "metadata": {},
   "outputs": [
    {
     "name": "stdout",
     "output_type": "stream",
     "text": [
      "Obi-Wan Kenobi\n"
     ]
    }
   ],
   "source": [
    "food = input(\"What's better pizza or tacos?\")\n",
    "if food == \"tacos\":\n",
    "    print(laat)\n",
    "else:\n",
    "     print(hellothere)\n"
   ]
  },
  {
   "attachments": {},
   "cell_type": "markdown",
   "metadata": {},
   "source": [
    "Questions will be in order for name, planet, vehicle and then a picture of the character the user is most like"
   ]
  },
  {
   "cell_type": "code",
   "execution_count": 39,
   "metadata": {},
   "outputs": [
    {
     "name": "stdout",
     "output_type": "stream",
     "text": [
      "X-34 landspeeder\n"
     ]
    }
   ],
   "source": [
    "vehicle_list = []\n",
    "\n",
    "for x in range(6,8):\n",
    "    test = url + \"vehicles/\" + str(x)\n",
    "    test3response = requests.get(test)\n",
    "    testpting = test3response.json()\n",
    "    vehicle_list.append(testpting['name'])\n",
    "print(vehicle_list[0])\n",
    "# vehicle_list[1]    \n",
    "    "
   ]
  },
  {
   "cell_type": "code",
   "execution_count": null,
   "metadata": {},
   "outputs": [
    {
     "name": "stdout",
     "output_type": "stream",
     "text": [
      "Bantha-II cargo skiff\n"
     ]
    }
   ],
   "source": [
    "\n",
    "\n",
    "testresponse = requests.get(url + \"vehicles/\" + str(25))\n",
    "\n",
    "geonosian = testresponse.json()[\"name\"]\n",
    "\n",
    "\n",
    "\n",
    "print(geonosian)"
   ]
  }
 ],
 "metadata": {
  "kernelspec": {
   "display_name": "base",
   "language": "python",
   "name": "python3"
  },
  "language_info": {
   "codemirror_mode": {
    "name": "ipython",
    "version": 3
   },
   "file_extension": ".py",
   "mimetype": "text/x-python",
   "name": "python",
   "nbconvert_exporter": "python",
   "pygments_lexer": "ipython3",
   "version": "3.10.9"
  },
  "orig_nbformat": 4
 },
 "nbformat": 4,
 "nbformat_minor": 2
}
